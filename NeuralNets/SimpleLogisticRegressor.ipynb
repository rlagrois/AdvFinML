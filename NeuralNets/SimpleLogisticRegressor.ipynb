{
 "cells": [
  {
   "cell_type": "code",
   "execution_count": 20,
   "metadata": {},
   "outputs": [],
   "source": [
    "import numpy as np\n",
    "import matplotlib.pyplot as plt"
   ]
  },
  {
   "cell_type": "code",
   "execution_count": 21,
   "metadata": {},
   "outputs": [],
   "source": [
    "# Define actiavtion and loss functions\n",
    "def sigmoid(z):\n",
    "    return 1 / (1 + np.exp(-z))\n",
    "\n",
    "def bce(y, y_hat):\n",
    "    N = y.shape[0]\n",
    "    loss = -1/N * np.sum((y*np.log(y_hat) + (1 - y)*np.log(1 - y_hat)))\n",
    "    \n",
    "    return loss"
   ]
  },
  {
   "cell_type": "code",
   "execution_count": 22,
   "metadata": {},
   "outputs": [],
   "source": [
    "# Create Data\n",
    "np.random.seed(1)\n",
    "X = np.array([[0,1,0],\n",
    "              [1,0,0],\n",
    "              [1,1,1],\n",
    "              [0,1,1]])\n",
    "\n",
    "y = np.array([[0,1,1,0]]).T\n",
    "\n",
    "# Initialize Parameters\n",
    "W = 2*np.random.random((3,1)) - 1\n",
    "b = 0\n",
    "\n",
    "# Set Hyper Parameters\n",
    "alpha = 1\n",
    "epochs = 30"
   ]
  },
  {
   "cell_type": "code",
   "execution_count": 23,
   "metadata": {},
   "outputs": [
    {
     "name": "stdout",
     "output_type": "stream",
     "text": [
      "Epoch:  1 Loss:  0.8223225820877986\n",
      "Epoch:  2 Loss:  0.7228974481248197\n",
      "Epoch:  3 Loss:  0.6468376512082379\n",
      "Epoch:  4 Loss:  0.5841161222414706\n",
      "Epoch:  5 Loss:  0.5309081610241326\n",
      "Epoch:  6 Loss:  0.4852371787200559\n",
      "Epoch:  7 Loss:  0.4457477501179715\n",
      "Epoch:  8 Loss:  0.41139116414773486\n",
      "Epoch:  9 Loss:  0.3813260937620897\n",
      "Epoch:  10 Loss:  0.3548699981270737\n",
      "Epoch:  11 Loss:  0.33146603610936654\n",
      "Epoch:  12 Loss:  0.31065770214125676\n",
      "Epoch:  13 Loss:  0.29206886323178305\n",
      "Epoch:  14 Loss:  0.2753879903521693\n",
      "Epoch:  15 Loss:  0.26035569591451885\n",
      "Epoch:  16 Loss:  0.24675486898129195\n",
      "Epoch:  17 Loss:  0.23440284462420913\n",
      "Epoch:  18 Loss:  0.22314516463044204\n",
      "Epoch:  19 Loss:  0.21285058466964538\n",
      "Epoch:  20 Loss:  0.20340706040115034\n",
      "Epoch:  21 Loss:  0.19471850517489514\n",
      "Epoch:  22 Loss:  0.18670215840153181\n",
      "Epoch:  23 Loss:  0.1792864393615688\n",
      "Epoch:  24 Loss:  0.1724091886615366\n",
      "Epoch:  25 Loss:  0.1660162206697684\n",
      "Epoch:  26 Loss:  0.1600601265721712\n",
      "Epoch:  27 Loss:  0.154499280320379\n",
      "Epoch:  28 Loss:  0.14929700956671849\n",
      "Epoch:  29 Loss:  0.14442090134848307\n",
      "Epoch:  30 Loss:  0.13984221829546478\n"
     ]
    }
   ],
   "source": [
    "# Training Loop\n",
    "\n",
    "N = y.shape[0]\n",
    "losses = []\n",
    "\n",
    "for i in range(epochs):\n",
    "    # forward pass\n",
    "    z = X.dot(W) + b\n",
    "    A = sigmoid(z)\n",
    "\n",
    "    # Loss\n",
    "    loss = bce(y,A)\n",
    "    print('Epoch: ', str(i + 1), 'Loss: ', loss)\n",
    "    losses.append(loss)\n",
    "\n",
    "    # Gradients\n",
    "    dz = (A - y)\n",
    "    dW = 1/N * np.dot(X.T, dz)\n",
    "    db = 1/N * np.sum(dz, axis=0, keepdims=True)\n",
    "\n",
    "    # Parameter Update\n",
    "    W -= alpha * dW\n",
    "    b -= alpha * db"
   ]
  },
  {
   "cell_type": "code",
   "execution_count": 27,
   "metadata": {},
   "outputs": [
    {
     "data": {
      "image/png": "[encoded data removed]",
      "text/plain": [
       "<Figure size 432x288 with 1 Axes>"
      ]
     },
     "metadata": {
      "needs_background": "light"
     },
     "output_type": "display_data"
    }
   ],
   "source": [
    "plt.plot(losses)\n",
    "plt.xlabel('epoch')\n",
    "plt.ylabel('loss')\n",
    "plt.title('Training Loss')\n",
    "plt.show()"
   ]
  }
 ],
 "metadata": {
  "kernelspec": {
   "display_name": "Python 3",
   "language": "python",
   "name": "python3"
  },
  "language_info": {
   "codemirror_mode": {
    "name": "ipython",
    "version": 3
   },
   "file_extension": ".py",
   "mimetype": "text/x-python",
   "name": "python",
   "nbconvert_exporter": "python",
   "pygments_lexer": "ipython3",
   "version": "3.6.6"
  }
 },
 "nbformat": 4,
 "nbformat_minor": 2
}
