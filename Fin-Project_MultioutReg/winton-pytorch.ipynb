{
 "cells": [
  {
   "cell_type": "code",
   "execution_count": 2,
   "metadata": {},
   "outputs": [],
   "source": [
    "import numpy as np\n",
    "import pandas as pd\n",
    "from sklearn.model_selection import train_test_split\n",
    "from sklearn.preprocessing import StandardScaler, OneHotEncoder\n",
    "from sklearn.compose import ColumnTransformer\n",
    "from sklearn.base import BaseEstimator, TransformerMixin\n",
    "import torch\n",
    "import torch.nn as nn\n",
    "import torch.utils.data as data_utils"
   ]
  },
  {
   "cell_type": "code",
   "execution_count": 9,
   "metadata": {},
   "outputs": [
    {
     "data": {
      "text/plain": [
       "'GeForce GTX 1060'"
      ]
     },
     "execution_count": 9,
     "metadata": {},
     "output_type": "execute_result"
    }
   ],
   "source": [
    "torch.cuda.get_device_name(0)"
   ]
  },
  {
   "cell_type": "code",
   "execution_count": 47,
   "metadata": {},
   "outputs": [],
   "source": [
    "class build_data(BaseEstimator, TransformerMixin):\n",
    "    \"\"\"\n",
    "    Loads and Prepares dataset for pytorch\n",
    "    WMAE weights are last two values in y\"\"\"\n",
    "    \n",
    "    def __init__(self, df, drop, split_size=0.33, rand=22391, batch=1, shuffle=True, pin=True):\n",
    "        self.rand = rand\n",
    "        self.split_size = split_size\n",
    "        self.batch = batch\n",
    "        self.shuffle = shuffle\n",
    "        self.pin = pin\n",
    "        \n",
    "        df = df.astype('float')\n",
    "        \n",
    "        ccols = [i for i in df.columns if 'Feature' in i]\n",
    "        keep = [i for i in ccols if i not in drop]\n",
    "\n",
    "        self.x = df.iloc[:,26:147]\n",
    "        self.x2 = df.loc[:,keep]\n",
    "        self.y = df.iloc[:,147:]\n",
    "               \n",
    "    def _na_fill(self,mode):\n",
    "        for i in self.x2.columns:\n",
    "            if i in mode:\n",
    "                self.x2[i] = self.x2[i].fillna(value=self.x2[i].mode()[0])\n",
    "            else:\n",
    "                self.x2[i] = self.x2[i].fillna(value=self.x2[i].median())\n",
    "                \n",
    "        self.x = self.x.interpolate(method='linear', axis=1)\n",
    "        self.x_fin = pd.concat([self.x2,self.x], axis=1)\n",
    "        \n",
    "    def _split(self):\n",
    "        X_train, X_test, y_train, y_test = train_test_split(self.x_fin, self.y, test_size=self.split_size, random_state=self.rand)\n",
    "\n",
    "        # Seperate Features and TS\n",
    "        self.X_train_ts = X_train.iloc[:,23:147]\n",
    "        self.X_test_ts = X_test.iloc[:,23:147]\n",
    "\n",
    "        self.X_train_ft = X_train.iloc[:,:23]\n",
    "        self.X_test_ft = X_test.iloc[:,:23]\n",
    "\n",
    "        # Get Weights for MAE\n",
    "        # Weights also included in loader, be sure to index when running\n",
    "        self.test_wt, self.train_wt = np.asarray(y_test.iloc[:,-2:]), np.asarray(y_train.iloc[:,-2:])\n",
    "        self.y_test, self.y_train = np.asarray(y_test.iloc[:,:-2]), np.asarray(y_train.iloc[:,:-2])\n",
    "        \n",
    "    def _scale(self,stsc,lab):\n",
    "        ctrans =  ColumnTransformer(\n",
    "                    [('scale_all', StandardScaler(), stsc),\n",
    "                     ('cats', OneHotEncoder(categories='auto'), lab)])\n",
    "        \n",
    "        xtsc = StandardScaler()\n",
    "        ytsc = StandardScaler()\n",
    "        \n",
    "        self.X_train_ft = ctrans.fit_transform(self.X_train_ft)\n",
    "        self.X_test_ft = ctrans.transform(self.X_test_ft)\n",
    "        self.X_train_ts = xtsc.fit_transform(self.X_train_ts)\n",
    "        self.X_test_ts = xtsc.transform(self.X_test_ts)\n",
    "        \n",
    "        self.x_train = np.concatenate([self.X_train_ft, self.X_train_ts], axis=1)\n",
    "        self.x_test = np.concatenate([self.X_test_ft, self.X_test_ts], axis=1)\n",
    "        \n",
    "        self.y_train = ytsc.fit_transform(self.y_train)\n",
    "        self.y_test = ytsc.transform(self.y_test)\n",
    "        \n",
    "        self.y_train = np.concatenate([self.y_train,self.train_wt],axis=1)\n",
    "        self.y_test = np.concatenate([self.y_test,self.test_wt],axis=1)\n",
    "        \n",
    "        self.xtrans = xtsc\n",
    "        self.ytrans = ytsc\n",
    "        \n",
    "    def fit(self, mode, stsc, lab):\n",
    "        self._na_fill(mode)\n",
    "        self._split()\n",
    "        self._scale(stsc,lab)\n",
    "        \n",
    "        torch_x_train, torch_y_train = torch.from_numpy(self.x_train).float(), torch.from_numpy(self.y_train).float()\n",
    "        torch_x_test, torch_y_test = torch.from_numpy(self.x_test).float(), torch.from_numpy(self.y_test).float()\n",
    "        \n",
    "        train = data_utils.TensorDataset(torch_x_train, torch_y_train)\n",
    "        test = data_utils.TensorDataset(torch_x_test, torch_y_test)\n",
    "        \n",
    "        train_loader = data_utils.DataLoader(train, batch_size=self.batch, shuffle=self.shuffle, pin_memory=self.pin)\n",
    "        test_loader = data_utils.DataLoader(test, batch_size=self.batch, shuffle=self.shuffle, pin_memory=self.pin)\n",
    "        \n",
    "        return train_loader, test_loader\n",
    "    \n",
    "    def get_weights(self):\n",
    "        return self.train_wt, self.test_wt\n",
    "    \n",
    "    def reverse_trans(self, x=False, y=False):\n",
    "        if x is not False and y is not False:\n",
    "            return self.xtrans.inverse_transform(x), self.ytrans.inverse_transform(y)\n",
    "        elif x is not False:\n",
    "            return self.xtrans.inverse_transform(x)\n",
    "        elif y is not False:\n",
    "            return self.ytrans.inverse_transform(y)\n"
   ]
  },
  {
   "cell_type": "code",
   "execution_count": 58,
   "metadata": {},
   "outputs": [],
   "source": [
    "x = torch.ones(2,5)\n",
    "y = torch.tensor([[2,3,4,5,6],\n",
    "                  [7,8,9,10,11]])\n",
    "wt = torch.tensor([[3,4],\n",
    "                  [5,6]])"
   ]
  },
  {
   "cell_type": "code",
   "execution_count": 59,
   "metadata": {},
   "outputs": [],
   "source": [
    "\n",
    "# Define Custom Loss function\n",
    "\n",
    "\n",
    "\n",
    "class wmae_loss(torch.nn.Module):\n",
    "    def __init__(self):\n",
    "        super(wmae_loss,self).__init__()\n",
    "        \n",
    "    def _wmae(self,pred, true, wts):\n",
    "        \"\"\"Second weight for last 2 preds, first for rest\"\"\"\n",
    "        n = pred.shape[0] * pred.shape[1]\n",
    "        intra = torch.sum(wts[:,0].view(-1,1) * torch.abs(true[:,:-2] - pred[:,:-2]))\n",
    "        daily = torch.sum(wts[:,1].view(-1,1) * torch.abs(true[:,-2:] - pred[:,-2:]))\n",
    "        return (intra + daily) / n\n",
    "        \n",
    "    def forward(self, pred, true, wt):\n",
    "        return self._wmae(pred, true, wt)"
   ]
  },
  {
   "cell_type": "code",
   "execution_count": 60,
   "metadata": {},
   "outputs": [
    {
     "data": {
      "text/plain": [
       "tensor(27.3000)"
      ]
     },
     "execution_count": 60,
     "metadata": {},
     "output_type": "execute_result"
    }
   ],
   "source": [
    "loss = wmae_loss()\n",
    "\n",
    "loss(x.float(),y.float(),wt.float())"
   ]
  },
  {
   "cell_type": "code",
   "execution_count": 51,
   "metadata": {},
   "outputs": [
    {
     "data": {
      "text/plain": [
       "tensor(27.3000)"
      ]
     },
     "execution_count": 51,
     "metadata": {},
     "output_type": "execute_result"
    }
   ],
   "source": [
    "wmae(x.float(),y.float(),wt.float())"
   ]
  },
  {
   "cell_type": "code",
   "execution_count": 52,
   "metadata": {},
   "outputs": [],
   "source": [
    "#path = r\"C:\\Users\\rlagr\\fin\\winton\\data\\train.csv\"\n",
    "path = r\"C:\\Users\\RemyLagrois\\!pytorch\\data\\train.csv\"\n",
    "exclude = ['Feature_1', 'Feature_10']\n",
    "mode = ['Feature_9', 'Feature_13', 'Feature_16', 'Feature_20']\n",
    "cats = ['Feature_5', 'Feature_13', 'Feature_16', 'Feature_20']\n",
    "scale = ['Feature_2', 'Feature_3', 'Feature_4', 'Feature_6', 'Feature_8', 'Feature_11', 'Feature_12', 'Feature_14', 'Feature_17', 'Feature_18',\n",
    "         'Feature_19', 'Feature_21', 'Feature_22', 'Feature_23', 'Feature_24', 'Feature_25', 'Feature_7', 'Feature_9', 'Feature_15']\n",
    "\n",
    "df = pd.read_csv(path)\n",
    "data = build_data(df, exclude)\n",
    "\n",
    "train_loader, test_loader = data.fit(mode, scale, cats)"
   ]
  },
  {
   "cell_type": "code",
   "execution_count": 53,
   "metadata": {},
   "outputs": [
    {
     "name": "stdout",
     "output_type": "stream",
     "text": [
      "torch.Size([1, 62])\n",
      "tensor([[1555041.8750, 1943802.3750]])\n"
     ]
    }
   ],
   "source": [
    "it = 0\n",
    "\n",
    "for i, (x,y) in enumerate(train_loader):\n",
    "    if it >= 1:\n",
    "        break\n",
    "    \n",
    "    yt = y[:,:-2]\n",
    "    wt = y[:,-2:]\n",
    "    print(yt.shape)\n",
    "    print(wt)\n",
    "    \n",
    "    it += 1"
   ]
  }
 ],
 "metadata": {
  "kernelspec": {
   "display_name": "Python 3",
   "language": "python",
   "name": "python3"
  },
  "language_info": {
   "codemirror_mode": {
    "name": "ipython",
    "version": 3
   },
   "file_extension": ".py",
   "mimetype": "text/x-python",
   "name": "python",
   "nbconvert_exporter": "python",
   "pygments_lexer": "ipython3",
   "version": "3.7.2"
  }
 },
 "nbformat": 4,
 "nbformat_minor": 2
}
