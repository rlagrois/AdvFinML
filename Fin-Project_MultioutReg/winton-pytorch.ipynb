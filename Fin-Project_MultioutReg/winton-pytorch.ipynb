{
 "cells": [
  {
   "cell_type": "code",
   "execution_count": 1,
   "metadata": {},
   "outputs": [],
   "source": [
    "import numpy as np\n",
    "import pandas as pd\n",
    "from sklearn.model_selection import train_test_split\n",
    "from sklearn.preprocessing import StandardScaler, OneHotEncoder\n",
    "from sklearn.compose import ColumnTransformer\n",
    "from sklearn.base import BaseEstimator, TransformerMixin\n",
    "import torch\n",
    "import torch.nn as nn\n",
    "import torch.utils.data as data_utils"
   ]
  },
  {
   "cell_type": "code",
   "execution_count": 9,
   "metadata": {},
   "outputs": [
    {
     "data": {
      "text/plain": [
       "'GeForce GTX 1060'"
      ]
     },
     "execution_count": 9,
     "metadata": {},
     "output_type": "execute_result"
    }
   ],
   "source": [
    "torch.cuda.get_device_name(0)"
   ]
  },
  {
   "cell_type": "code",
   "execution_count": 67,
   "metadata": {},
   "outputs": [],
   "source": [
    "class build_data(BaseEstimator, TransformerMixin):\n",
    "    \"\"\" Loads and Prepares dataset for pytorch\"\"\"\n",
    "    \n",
    "    def __init__(self, df, drop, split_size=0.33, rand=22391, batch=1, shuffle=True, pin=True):\n",
    "        self.rand = rand\n",
    "        self.split_size = split_size\n",
    "        self.batch = batch\n",
    "        self.shuffle = shuffle\n",
    "        self.pin = pin\n",
    "        \n",
    "        df = df.astype('float')\n",
    "        \n",
    "        ccols = [i for i in df.columns if 'Feature' in i]\n",
    "        keep = [i for i in ccols if i not in drop]\n",
    "\n",
    "        self.x = df.iloc[:,26:147]\n",
    "        self.x2 = df.loc[:,keep]\n",
    "        self.y = df.iloc[:,147:]\n",
    "               \n",
    "    def _na_fill(self,mode):\n",
    "        for i in self.x2.columns:\n",
    "            if i in mode:\n",
    "                self.x2[i] = self.x2[i].fillna(value=self.x2[i].mode()[0])\n",
    "            else:\n",
    "                self.x2[i] = self.x2[i].fillna(value=self.x2[i].median())\n",
    "                \n",
    "        self.x = self.x.interpolate(method='linear', axis=1)\n",
    "        self.x_fin = pd.concat([self.x2,self.x], axis=1)\n",
    "        \n",
    "    def _split(self):\n",
    "        X_train, X_test, y_train, y_test = train_test_split(self.x_fin, self.y, test_size=self.split_size, random_state=self.rand)\n",
    "\n",
    "        # Seperate Features and TS\n",
    "        self.X_train_ts = X_train.iloc[:,23:147]\n",
    "        self.X_test_ts = X_test.iloc[:,23:147]\n",
    "\n",
    "        self.X_train_ft = X_train.iloc[:,:23]\n",
    "        self.X_test_ft = X_test.iloc[:,:23]\n",
    "\n",
    "        # Get Weights for MAE\n",
    "        self.test_wt, self.train_wt = np.asarray(y_test.iloc[:,-2:]), np.asarray(y_train.iloc[:,-2:])\n",
    "        self.y_test, self.y_train = np.asarray(y_test.iloc[:,:-2]), np.asarray(y_train.iloc[:,:-2])\n",
    "        \n",
    "    def _scale(self,stsc,lab):\n",
    "        ctrans =  ColumnTransformer(\n",
    "                    [('scale_all', StandardScaler(), stsc),\n",
    "                     ('cats', OneHotEncoder(categories='auto'), lab)])\n",
    "        \n",
    "        xtsc = StandardScaler()\n",
    "        ytsc = StandardScaler()\n",
    "        \n",
    "        self.X_train_ft = ctrans.fit_transform(self.X_train_ft)\n",
    "        self.X_test_ft = ctrans.transform(self.X_test_ft)\n",
    "        self.X_train_ts = xtsc.fit_transform(self.X_train_ts)\n",
    "        self.X_test_ts = xtsc.transform(self.X_test_ts)\n",
    "        \n",
    "        self.x_train = np.concatenate([self.X_train_ft, self.X_train_ts], axis=1)\n",
    "        self.x_test = np.concatenate([self.X_test_ft, self.X_test_ts], axis=1)\n",
    "        \n",
    "        self.y_train = ytsc.fit_transform(self.y_train)\n",
    "        self.y_test = ytsc.transform(self.y_test)\n",
    "        \n",
    "        self.xtrans = xtsc\n",
    "        self.ytrans = ytsc\n",
    "        \n",
    "    def fit(self, mode, stsc, lab):\n",
    "        self._na_fill(mode)\n",
    "        self._split()\n",
    "        self._scale(stsc,lab)\n",
    "        \n",
    "        torch_x_train, torch_y_train = torch.from_numpy(self.x_train).float(), torch.from_numpy(self.y_train).float()\n",
    "        torch_x_test, torch_y_test = torch.from_numpy(self.x_test).float(), torch.from_numpy(self.y_test).float()\n",
    "        \n",
    "        train = data_utils.TensorDataset(torch_x_train, torch_y_train)\n",
    "        test = data_utils.TensorDataset(torch_x_test, torch_y_test)\n",
    "        \n",
    "        train_loader = data_utils.DataLoader(train, batch_size=self.batch, shuffle=self.shuffle, pin_memory=self.pin)\n",
    "        test_loader = data_utils.DataLoader(test, batch_size=self.batch, shuffle=self.shuffle, pin_memory=self.pin)\n",
    "        \n",
    "        return train_loader, test_loader\n",
    "    \n",
    "    def get_weights(self):\n",
    "        return self.train_wt, self.test_wt\n",
    "    \n",
    "    def reverse_trans(self, x=False, y=False):\n",
    "        if x is not False:\n",
    "            return self.xtrans.inverse_transform(x)\n",
    "        if y is not False:\n",
    "            return self.ytrans.inverse_transform(y)\n",
    "        if x is not False and y is not False:\n",
    "            return self.xtrans.inverse_transform(x), self.ytrans.inverse_transform(y)\n",
    "        "
   ]
  },
  {
   "cell_type": "code",
   "execution_count": 68,
   "metadata": {},
   "outputs": [],
   "source": [
    "path = r\"C:\\Users\\rlagr\\fin\\winton\\data\\train.csv\"\n",
    "exclude = ['Feature_1', 'Feature_10']\n",
    "mode = ['Feature_9', 'Feature_13', 'Feature_16', 'Feature_20']\n",
    "cats = ['Feature_5', 'Feature_13', 'Feature_16', 'Feature_20']\n",
    "scale = ['Feature_2', 'Feature_3', 'Feature_4', 'Feature_6', 'Feature_8', 'Feature_11', 'Feature_12', 'Feature_14', 'Feature_17', 'Feature_18',\n",
    "         'Feature_19', 'Feature_21', 'Feature_22', 'Feature_23', 'Feature_24', 'Feature_25', 'Feature_7', 'Feature_9', 'Feature_15']\n",
    "\n",
    "#df = pd.read_csv(path)\n",
    "data = build_data(df, exclude)\n",
    "\n",
    "train_loader, test_loader = data.fit(mode, scale, cats)"
   ]
  },
  {
   "cell_type": "code",
   "execution_count": 66,
   "metadata": {},
   "outputs": [
    {
     "data": {
      "text/plain": [
       "array([[ 1.21894779e-02,  1.73349014e-02, -2.91885102e-04,\n",
       "         8.30703863e-04,  2.09945252e-03,  4.92398669e-04,\n",
       "         3.38496041e-04, -1.53148135e-03, -7.20635039e-04,\n",
       "        -6.81625984e-04,  1.79684565e-04,  3.00475905e-04,\n",
       "        -2.56438979e-04,  6.84541312e-05, -7.58982448e-04,\n",
       "        -8.24113657e-04, -2.24700064e-04, -3.20417908e-04,\n",
       "        -5.90317011e-04, -9.34957083e-05,  9.66957408e-04,\n",
       "        -2.08054895e-04, -4.36955712e-04, -1.63127325e-03,\n",
       "        -6.83008882e-04,  1.59965161e-03,  2.20838620e-04,\n",
       "        -2.07533869e-03, -1.02349472e-03, -3.37716242e-04,\n",
       "         8.77656203e-04, -4.07518496e-04,  8.47507454e-04,\n",
       "         1.29475068e-04,  7.27885672e-04, -6.95361844e-04,\n",
       "        -5.44769920e-04,  6.50712376e-06, -6.65644611e-04,\n",
       "         3.95128886e-05,  9.94189975e-04, -5.07781482e-04,\n",
       "         6.07276109e-04,  9.06447970e-05,  1.91861123e-04,\n",
       "         1.01588382e-03, -3.71109506e-04, -1.10269846e-03,\n",
       "        -1.39045539e-03, -4.13796597e-04, -5.91094770e-04,\n",
       "        -5.61953351e-04, -8.23766396e-04,  1.99574729e-03,\n",
       "        -1.94301904e-03,  2.16904471e-04, -1.41482422e-03,\n",
       "        -8.38174940e-04, -5.89204893e-04, -9.22735798e-04,\n",
       "         8.63154774e-04, -3.32462167e-05, -4.51439174e-04,\n",
       "        -1.70848013e-03, -4.95517347e-04, -2.01697994e-04,\n",
       "        -4.73787345e-04,  7.53666603e-04, -9.80682918e-05,\n",
       "        -3.61365830e-04,  3.09429033e-03,  5.04468906e-04,\n",
       "         1.27081424e-03,  1.10388801e-03, -6.44896661e-04,\n",
       "        -2.15585740e-03,  1.23333040e-03,  6.54192541e-04,\n",
       "        -8.22631391e-04,  1.31957744e-03, -1.66388463e-04,\n",
       "         1.07910717e-03, -2.70837928e-04, -3.56877342e-04,\n",
       "        -7.81604877e-04,  6.65111772e-04, -8.76466271e-05,\n",
       "        -2.32323304e-04, -2.98948554e-04, -6.33327943e-04,\n",
       "        -2.77472283e-04,  3.18715100e-04, -6.20547828e-04,\n",
       "         1.03328876e-03,  1.51453944e-03,  1.06613961e-04,\n",
       "         2.34508604e-03,  2.27706133e-03,  1.37136414e-03,\n",
       "        -1.17461322e-03, -9.12990988e-04, -2.40818844e-03,\n",
       "         5.91074064e-04,  2.40464271e-03,  1.80498635e-03,\n",
       "        -1.71704284e-03,  2.09598548e-04, -4.29360260e-04,\n",
       "         4.36808305e-04,  1.84270605e-04, -7.47747047e-04,\n",
       "        -1.25287924e-03, -1.24296981e-03,  2.63598665e-03,\n",
       "         5.12743117e-04,  7.16801501e-04, -5.02351801e-05,\n",
       "        -9.68988666e-05, -1.10841266e-03,  8.39497593e-04,\n",
       "         1.36501128e-03]])"
      ]
     },
     "execution_count": 66,
     "metadata": {},
     "output_type": "execute_result"
    }
   ],
   "source": [
    "test = np.random.randn(1,121)\n",
    "test2 = data.reverse_trans(x=test)\n",
    "test2"
   ]
  }
 ],
 "metadata": {
  "kernelspec": {
   "display_name": "Python 3",
   "language": "python",
   "name": "python3"
  },
  "language_info": {
   "codemirror_mode": {
    "name": "ipython",
    "version": 3
   },
   "file_extension": ".py",
   "mimetype": "text/x-python",
   "name": "python",
   "nbconvert_exporter": "python",
   "pygments_lexer": "ipython3",
   "version": "3.6.6"
  }
 },
 "nbformat": 4,
 "nbformat_minor": 2
}
